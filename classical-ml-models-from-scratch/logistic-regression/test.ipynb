{
 "cells": [
  {
   "cell_type": "code",
   "execution_count": 1,
   "id": "8768c247",
   "metadata": {},
   "outputs": [],
   "source": [
    "import numpy as np\n",
    "from sklearn.model_selection import train_test_split\n",
    "from sklearn import datasets\n",
    "import matplotlib.pyplot as plt"
   ]
  },
  {
   "cell_type": "code",
   "execution_count": 2,
   "id": "8f5c69eb",
   "metadata": {},
   "outputs": [],
   "source": [
    "from logistic_regression import LogisticRegression"
   ]
  },
  {
   "cell_type": "code",
   "execution_count": 3,
   "id": "c94e731d",
   "metadata": {},
   "outputs": [],
   "source": [
    "bc = datasets.load_breast_cancer()\n",
    "X , y = bc.data , bc.target"
   ]
  },
  {
   "cell_type": "code",
   "execution_count": 4,
   "id": "dda8abf9",
   "metadata": {},
   "outputs": [],
   "source": [
    "X_train , X_test , y_train , y_test = train_test_split(X , y , test_size=0.2 , random_state=42)"
   ]
  },
  {
   "cell_type": "code",
   "execution_count": 5,
   "id": "2a9aec11",
   "metadata": {},
   "outputs": [],
   "source": [
    "def accuracy(y_true , y_pred):\n",
    "    return np.sum(y_true == y_pred) / (len(y_true))  # true y_pred / all of y_true"
   ]
  },
  {
   "cell_type": "code",
   "execution_count": 6,
   "id": "d562ab25",
   "metadata": {},
   "outputs": [],
   "source": [
    "regressor = LogisticRegression(lr=0.0001 , n_iterations=1000)\n",
    "regressor.fit(X_train , y_train)\n",
    "predictions = regressor.predict(X_test)"
   ]
  },
  {
   "cell_type": "code",
   "execution_count": 7,
   "id": "a6a64c20",
   "metadata": {},
   "outputs": [
    {
     "name": "stdout",
     "output_type": "stream",
     "text": [
      "Logistic Regression Accuracy: 0.9473684210526315\n"
     ]
    }
   ],
   "source": [
    "print(f\"Logistic Regression Accuracy: {accuracy(y_test , predictions)}\")"
   ]
  }
 ],
 "metadata": {
  "kernelspec": {
   "display_name": "base",
   "language": "python",
   "name": "python3"
  },
  "language_info": {
   "codemirror_mode": {
    "name": "ipython",
    "version": 3
   },
   "file_extension": ".py",
   "mimetype": "text/x-python",
   "name": "python",
   "nbconvert_exporter": "python",
   "pygments_lexer": "ipython3",
   "version": "3.13.5"
  }
 },
 "nbformat": 4,
 "nbformat_minor": 5
}
