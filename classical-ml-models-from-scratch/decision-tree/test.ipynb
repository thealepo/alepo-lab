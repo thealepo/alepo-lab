{
 "cells": [
  {
   "cell_type": "code",
   "execution_count": 1,
   "id": "87bf9760",
   "metadata": {},
   "outputs": [],
   "source": [
    "import numpy as np\n",
    "from sklearn import datasets\n",
    "from sklearn.model_selection import train_test_split"
   ]
  },
  {
   "cell_type": "code",
   "execution_count": 2,
   "id": "6031bb94",
   "metadata": {},
   "outputs": [],
   "source": [
    "from decision_tree import DecisionTree"
   ]
  },
  {
   "cell_type": "code",
   "execution_count": 3,
   "id": "7fcd4037",
   "metadata": {},
   "outputs": [],
   "source": [
    "def accuracy(y_true , y_pred):\n",
    "    return np.sum(y_true == y_pred) / len(y_true)"
   ]
  },
  {
   "cell_type": "code",
   "execution_count": 4,
   "id": "63dabaa1",
   "metadata": {},
   "outputs": [],
   "source": [
    "data = datasets.load_breast_cancer()\n",
    "X , y = data.data , data.target"
   ]
  },
  {
   "cell_type": "code",
   "execution_count": 5,
   "id": "9707516c",
   "metadata": {},
   "outputs": [],
   "source": [
    "X_train , X_test , y_train , y_test = train_test_split(X , y , test_size=0.2 , random_state=42)"
   ]
  },
  {
   "cell_type": "code",
   "execution_count": 6,
   "id": "05c610a4",
   "metadata": {},
   "outputs": [],
   "source": [
    "classifier = DecisionTree(max_depth=10)\n",
    "classifier.fit(X_train , y_train)"
   ]
  },
  {
   "cell_type": "code",
   "execution_count": 7,
   "id": "6ccd5943",
   "metadata": {},
   "outputs": [],
   "source": [
    "y_pred = classifier.predict(X_test)\n",
    "acc = accuracy(y_test , y_pred)"
   ]
  },
  {
   "cell_type": "code",
   "execution_count": 8,
   "id": "e17cc0ee",
   "metadata": {},
   "outputs": [
    {
     "name": "stdout",
     "output_type": "stream",
     "text": [
      "Accuracy; 0.9473684210526315\n"
     ]
    }
   ],
   "source": [
    "print(f\"Accuracy; {acc}\")"
   ]
  },
  {
   "cell_type": "code",
   "execution_count": null,
   "id": "a45c4cd2",
   "metadata": {},
   "outputs": [],
   "source": []
  }
 ],
 "metadata": {
  "kernelspec": {
   "display_name": "base",
   "language": "python",
   "name": "python3"
  },
  "language_info": {
   "codemirror_mode": {
    "name": "ipython",
    "version": 3
   },
   "file_extension": ".py",
   "mimetype": "text/x-python",
   "name": "python",
   "nbconvert_exporter": "python",
   "pygments_lexer": "ipython3",
   "version": "3.13.5"
  }
 },
 "nbformat": 4,
 "nbformat_minor": 5
}
